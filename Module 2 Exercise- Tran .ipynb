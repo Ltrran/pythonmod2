{
 "cells": [
  {
   "cell_type": "markdown",
   "metadata": {},
   "source": [
    "#### 1. Find the average score\n",
    "A program is needed to prompt the user operator for ten exam scores, calculate the average score and display the result to the screen. The average score is calculated as the sum of the scores divided by the number of scores."
   ]
  },
  {
   "cell_type": "markdown",
   "metadata": {},
   "source": [
    "BEGIN\n",
    "\n",
    "    Set total_score to 0\n",
    "    Set count_scores to 0\n",
    "    Set max_scores to 10\n",
    "\n",
    "    WHILE count_scores < max_scores:\n",
    "        Prompt the user to input a score\n",
    "        Read the input score and store it in a variable called score\n",
    "        Add the input score to total_score\n",
    "        Increment count_scores by 1\n",
    "\n",
    "    Calculate the average score by dividing total_score by max_scores\n",
    "    Display the average score on the screen\n",
    "\n",
    "END\n",
    "\n",
    "Check:\n",
    "\n",
    "Input scores: 1,2,3,4,5,6,7,8,9,10\n",
    "\n",
    "average score = 55/10 = 5.5 "
   ]
  },
  {
   "cell_type": "markdown",
   "metadata": {},
   "source": [
    "#### 2. How much water runs off a roof in a rain storm?\n",
    "To calculate the runoff from any given rainfall: Take the dimensions of the footprint of the roof and convert them to inches. (So, a 50' x 20' roof is 600\" x 240\"). Multiply the roof dimensions by the number of inches of rainfall. As an example, 600\" x 240\" x 1\" = 144,000 cubic inches of water for an inch of rainfall. Divide that result by 231 to get the number of gallons (because 1 gallon = 231 cubic inches). (144,000/231 = 623.38)."
   ]
  },
  {
   "cell_type": "markdown",
   "metadata": {},
   "source": [
    "BEGIN\n",
    "    \n",
    "    Prompt user to input the dimensions of the roof footprint in feet (length and width)\n",
    "    Convert the dimensions to inches by multiplying length and width by 12\n",
    "    \n",
    "    Prompt user to input the number of inches of rainfall\n",
    "    Multiply the roof dimensions by the number of inches of rainfall to get the volume of water in cubic inches\n",
    "    \n",
    "    Divide the volume of water in cubic inches by 231 to convert to gallons\n",
    "    Store the result as runoff_gallons\n",
    "    \n",
    "    Display the runoff_gallons\n",
    "\n",
    "END\n",
    "\n",
    "rainGallon = ((rWidth x rHeight) x 12) x rainInch) / 231"
   ]
  },
  {
   "cell_type": "markdown",
   "metadata": {},
   "source": [
    "#### 3. Process customer record\n",
    "A program is required to read a customer’s name, a purchase amount and a tax code. The tax code has been validated and will be one of the following: 0 tax exempt (0%) 1 state sales tax only (3%) 2 federal and state sales tax (5%) 3 special sales tax (7%) The program must then compute the sales tax and the total amount due,and print the customer’s name, purchase amount, sales tax and total amount due."
   ]
  },
  {
   "cell_type": "markdown",
   "metadata": {},
   "source": [
    "BEGIN\n",
    "\n",
    "    Prompt the user to input customer's name\n",
    "    Store the input as customer_name\n",
    "    \n",
    "    Prompt the user to input purchase amount\n",
    "    Store the input as purchase_amount\n",
    "    \n",
    "    Prompt the user to input tax code\n",
    "    Store the input as tax_code\n",
    "    \n",
    "    IF tax_code is 0:\n",
    "        Set sales_tax_rate to 0%\n",
    "    ELSE IF tax_code is 1:\n",
    "        Set sales_tax_rate to 3%\n",
    "    ELSE IF tax_code is 2:\n",
    "        Set sales_tax_rate to 5%\n",
    "    ELSE IF tax_code is 3:\n",
    "        Set sales_tax_rate to 7%\n",
    "    ELSE:\n",
    "        Display error message: \"Invalid tax code\"\n",
    "        Terminate the program\n",
    "        \n",
    "    Compute sales_tax as purchase_amount multiplied by sales_tax_rate\n",
    "    Compute total_amount_due as purchase_amount plus sales_tax\n",
    "    \n",
    "    Display customer_name, purchase_amount, sales_tax, and total_amount_due\n",
    "\n",
    "END"
   ]
  },
  {
   "cell_type": "markdown",
   "metadata": {},
   "source": [
    "#### 4. Calculate employee's pay \n",
    "A program is required by a company to read an employee’s number, pay rate and the number of hours worked in a week. The program is then to validate the pay rate field and the hours worked field and, if valid, compute the employee’s weekly pay and then print it and the input data.\n",
    "\n",
    "Validation: According to the company’s rules, the maximum hours an employee can work per week is 60 hours, and the maximum hourly rate is $25.00 per hour. If the hours worked field or the hourly rate field is out of range, the input data and an appropriate message are to be printed and the employee’s weekly pay is not to be calculated.\n",
    "\n",
    "Weekly pay calculation: Weekly pay is calculated as hours worked times pay rate. If more than 35 hours are worked, payment for the overtime hours worked is calculated at time-and-a-half."
   ]
  },
  {
   "cell_type": "markdown",
   "metadata": {},
   "source": [
    "BEGIN\n",
    "\n",
    "    Prompt employee number\n",
    "    Store as emply\n",
    "    \n",
    "    Prompt pay rate \n",
    "    Store as rPay\n",
    "    \n",
    "    Prompt worked hours\n",
    "    Store as wHours\n",
    "\n",
    "    If pay rate is > 35 or hours worked is > 60 \n",
    "        print(error: pay rate or hours work is out of range)\n",
    "    \n",
    "    IF wHours > 35\n",
    "        regular pay = 35 x rPay\n",
    "        overtime hours = wHours - 35\n",
    "        overtime pay = overtime hours x (rpay x 1.5)\n",
    "        wPay = regular pay + overtime pay\n",
    "    Else \n",
    "        wPay = rPay x wHours\n",
    "\n",
    "    Calculate the overtime pay by multiplying any worked hours over 35 by 1.5\n",
    "    Calculate the employee weekly pay by mulitplying the pay rate and the worked hours and add it to overtime pay\n",
    "    \n",
    "    Print emply\n",
    "    Print rPay\n",
    "    Print wHours\n",
    "    Print wPay\n",
    "\n",
    "END\n",
    "\n",
    "\n",
    "CHECK:\n",
    "\n",
    "Input employee number = 00234567 \n",
    "Input Pay rate = $12.50\n",
    "Input Worked hours = 55\n",
    "\n",
    "overtime pay = (55 - 35) x (12.5 x 1.5) = 375\n",
    "wPay = (35 x 12.50) + 375 = 812.5\n",
    "\n",
    "Print\n",
    "\n",
    "emply 00234567\n",
    "rPay 12.50\n",
    "wHours 55\n",
    "wPay 812.5\n",
    "\n"
   ]
  }
 ],
 "metadata": {
  "kernelspec": {
   "display_name": "Python 3 (ipykernel)",
   "language": "python",
   "name": "python3"
  },
  "language_info": {
   "codemirror_mode": {
    "name": "ipython",
    "version": 3
   },
   "file_extension": ".py",
   "mimetype": "text/x-python",
   "name": "python",
   "nbconvert_exporter": "python",
   "pygments_lexer": "ipython3",
   "version": "3.11.5"
  }
 },
 "nbformat": 4,
 "nbformat_minor": 4
}
